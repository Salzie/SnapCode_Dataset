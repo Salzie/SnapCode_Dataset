{
 "cells": [
  {
   "cell_type": "code",
   "execution_count": 1,
   "metadata": {},
   "outputs": [
    {
     "name": "stderr",
     "output_type": "stream",
     "text": [
      "Using TensorFlow backend.\n"
     ]
    }
   ],
   "source": [
    "import numpy as np\n",
    "import matplotlib.pyplot as plt\n",
    "%matplotlib inline\n",
    "from __future__ import print_function\n",
    "import keras\n",
    "from keras.preprocessing.image import ImageDataGenerator, load_img"
   ]
  },
  {
   "cell_type": "code",
   "execution_count": 2,
   "metadata": {
    "collapsed": true
   },
   "outputs": [],
   "source": [
    "train_dir = '/home/saloni/our_vgg/clean-dataset/train'\n",
    "validation_dir = '/home/saloni/our_vgg/clean-dataset/test'\n",
    "image_size = 256"
   ]
  },
  {
   "cell_type": "code",
   "execution_count": 3,
   "metadata": {},
   "outputs": [
    {
     "name": "stdout",
     "output_type": "stream",
     "text": [
      "<keras.engine.topology.InputLayer object at 0x7f730cdc5190> False\n",
      "<keras.layers.convolutional.Conv2D object at 0x7f730cdc53d0> False\n",
      "<keras.layers.convolutional.Conv2D object at 0x7f730cd84dd0> False\n",
      "<keras.layers.pooling.MaxPooling2D object at 0x7f730cd84b50> False\n",
      "<keras.layers.convolutional.Conv2D object at 0x7f730cdc55d0> False\n",
      "<keras.layers.convolutional.Conv2D object at 0x7f730cd44b50> False\n",
      "<keras.layers.pooling.MaxPooling2D object at 0x7f730cd44b10> False\n",
      "<keras.layers.convolutional.Conv2D object at 0x7f730cce2b50> False\n",
      "<keras.layers.convolutional.Conv2D object at 0x7f730ccb8b90> False\n",
      "<keras.layers.convolutional.Conv2D object at 0x7f730ccc5910> False\n",
      "<keras.layers.pooling.MaxPooling2D object at 0x7f730cc79610> False\n",
      "<keras.layers.convolutional.Conv2D object at 0x7f730cc547d0> False\n",
      "<keras.layers.convolutional.Conv2D object at 0x7f730cc46d10> False\n",
      "<keras.layers.convolutional.Conv2D object at 0x7f730cb5f9d0> False\n",
      "<keras.layers.pooling.MaxPooling2D object at 0x7f730cc04cd0> False\n",
      "<keras.layers.convolutional.Conv2D object at 0x7f730cb76050> False\n",
      "<keras.layers.convolutional.Conv2D object at 0x7f730cb94290> False\n",
      "<keras.layers.convolutional.Conv2D object at 0x7f730cb43f90> False\n",
      "<keras.layers.pooling.MaxPooling2D object at 0x7f730caa09d0> False\n",
      "_________________________________________________________________\n",
      "Layer (type)                 Output Shape              Param #   \n",
      "=================================================================\n",
      "vgg16 (Model)                (None, 8, 8, 512)         14714688  \n",
      "_________________________________________________________________\n",
      "flatten_1 (Flatten)          (None, 32768)             0         \n",
      "_________________________________________________________________\n",
      "dense_1 (Dense)              (None, 512)               16777728  \n",
      "_________________________________________________________________\n",
      "dropout_1 (Dropout)          (None, 512)               0         \n",
      "_________________________________________________________________\n",
      "dense_2 (Dense)              (None, 3)                 1539      \n",
      "=================================================================\n",
      "Total params: 31,493,955\n",
      "Trainable params: 16,779,267\n",
      "Non-trainable params: 14,714,688\n",
      "_________________________________________________________________\n"
     ]
    }
   ],
   "source": [
    "from keras.applications import VGG16\n",
    "\n",
    "#Load the VGG model\n",
    "vgg_conv = VGG16(weights='imagenet', include_top=False, input_shape=(image_size, image_size, 3))\n",
    "\n",
    "# Freeze all the layers\n",
    "for layer in vgg_conv.layers[:]:\n",
    "    layer.trainable = False\n",
    "\n",
    "# Check the trainable status of the individual layers\n",
    "for layer in vgg_conv.layers:\n",
    "    print(layer, layer.trainable)\n",
    "\n",
    "\n",
    "from keras import models\n",
    "from keras import layers\n",
    "from keras import optimizers\n",
    "\n",
    "# Create the model\n",
    "model = models.Sequential()\n",
    "\n",
    "# Add the vgg convolutional base model\n",
    "model.add(vgg_conv)\n",
    "\n",
    "# Add new layers\n",
    "model.add(layers.Flatten())\n",
    "model.add(layers.Dense(512, activation='relu'))\n",
    "model.add(layers.Dropout(0.5))\n",
    "model.add(layers.Dense(3, activation='softmax'))\n",
    "\n",
    "# Show a summary of the model. Check the number of trainable parameters\n",
    "model.summary()"
   ]
  },
  {
   "cell_type": "code",
   "execution_count": 4,
   "metadata": {},
   "outputs": [
    {
     "name": "stdout",
     "output_type": "stream",
     "text": [
      "Found 1151 images belonging to 3 classes.\n",
      "Found 448 images belonging to 3 classes.\n",
      "Epoch 1/20\n",
      "230/230 [==============================] - 197s - loss: 6.1546 - acc: 0.4957 - val_loss: 1.8494 - val_acc: 0.7348\n",
      "Epoch 2/20\n",
      "230/230 [==============================] - 195s - loss: 2.5372 - acc: 0.7209 - val_loss: 0.7535 - val_acc: 0.8600\n",
      "Epoch 3/20\n",
      "230/230 [==============================] - 191s - loss: 1.4140 - acc: 0.8130 - val_loss: 0.6131 - val_acc: 0.8804\n",
      "Epoch 4/20\n",
      "230/230 [==============================] - 191s - loss: 0.9815 - acc: 0.8652 - val_loss: 0.5416 - val_acc: 0.9052\n",
      "Epoch 5/20\n",
      "230/230 [==============================] - 191s - loss: 0.6117 - acc: 0.9035 - val_loss: 0.6248 - val_acc: 0.8736\n",
      "Epoch 6/20\n",
      "230/230 [==============================] - 191s - loss: 0.5780 - acc: 0.9052 - val_loss: 0.5603 - val_acc: 0.9120\n",
      "Epoch 7/20\n",
      "230/230 [==============================] - 191s - loss: 0.5420 - acc: 0.9113 - val_loss: 0.4237 - val_acc: 0.9278\n",
      "Epoch 8/20\n",
      "230/230 [==============================] - 191s - loss: 0.4195 - acc: 0.9374 - val_loss: 0.2469 - val_acc: 0.9639\n",
      "Epoch 9/20\n",
      "230/230 [==============================] - 191s - loss: 0.4031 - acc: 0.9374 - val_loss: 0.4051 - val_acc: 0.9300\n",
      "Epoch 10/20\n",
      "230/230 [==============================] - 191s - loss: 0.3639 - acc: 0.9496 - val_loss: 0.2610 - val_acc: 0.9639\n",
      "Epoch 11/20\n",
      "230/230 [==============================] - 191s - loss: 0.3497 - acc: 0.9504 - val_loss: 0.3103 - val_acc: 0.9618\n",
      "Epoch 12/20\n",
      "230/230 [==============================] - 192s - loss: 0.3039 - acc: 0.9609 - val_loss: 0.3953 - val_acc: 0.9503\n",
      "Epoch 13/20\n",
      "230/230 [==============================] - 191s - loss: 0.2017 - acc: 0.9704 - val_loss: 0.2957 - val_acc: 0.9616\n",
      "Epoch 14/20\n",
      "230/230 [==============================] - 191s - loss: 0.2820 - acc: 0.9574 - val_loss: 0.3391 - val_acc: 0.9526\n",
      "Epoch 15/20\n",
      "230/230 [==============================] - 191s - loss: 0.3017 - acc: 0.9617 - val_loss: 0.2820 - val_acc: 0.9594\n",
      "Epoch 16/20\n",
      "230/230 [==============================] - 192s - loss: 0.1734 - acc: 0.9722 - val_loss: 0.2570 - val_acc: 0.9729\n",
      "Epoch 17/20\n",
      "230/230 [==============================] - 192s - loss: 0.1570 - acc: 0.9739 - val_loss: 0.3530 - val_acc: 0.9481\n",
      "Epoch 18/20\n",
      "230/230 [==============================] - 192s - loss: 0.2000 - acc: 0.9757 - val_loss: 0.2785 - val_acc: 0.9639\n",
      "Epoch 19/20\n",
      "230/230 [==============================] - 192s - loss: 0.1996 - acc: 0.9774 - val_loss: 0.3257 - val_acc: 0.9481\n",
      "Epoch 20/20\n",
      "230/230 [==============================] - 194s - loss: 0.1755 - acc: 0.9783 - val_loss: 0.2659 - val_acc: 0.9707\n"
     ]
    },
    {
     "data": {
      "image/png": "[encoded data removed]",
      "text/plain": [
       "<matplotlib.figure.Figure at 0x7f7393da2d90>"
      ]
     },
     "metadata": {},
     "output_type": "display_data"
    },
    {
     "data": {
      "image/png": "[encoded data removed]",
      "text/plain": [
       "<matplotlib.figure.Figure at 0x7f7393b3f4d0>"
      ]
     },
     "metadata": {},
     "output_type": "display_data"
    }
   ],
   "source": [
    "# No Data augmentation \n",
    "train_datagen = ImageDataGenerator(rescale=None)\n",
    "validation_datagen = ImageDataGenerator(rescale=None)\n",
    "\n",
    "# Change the batchsize according to your system RAM\n",
    "train_batchsize = 5\n",
    "val_batchsize = 5\n",
    "\n",
    "# Data Generator for Training data\n",
    "train_generator = train_datagen.flow_from_directory(\n",
    "        train_dir,\n",
    "        target_size=(image_size, image_size),\n",
    "        batch_size=train_batchsize,\n",
    "        class_mode='categorical')\n",
    "\n",
    "# Data Generator for Validation data\n",
    "validation_generator = validation_datagen.flow_from_directory(\n",
    "        validation_dir,\n",
    "        target_size=(image_size, image_size),\n",
    "        batch_size=val_batchsize,\n",
    "        class_mode='categorical',\n",
    "        shuffle=False)\n",
    "\n",
    "# Compile the model\n",
    "model.compile(loss='categorical_crossentropy',\n",
    "              optimizer=optimizers.RMSprop(lr=1e-4),\n",
    "              metrics=['acc'])\n",
    "\n",
    "# Train the Model\n",
    "history = model.fit_generator(\n",
    "      train_generator,\n",
    "      steps_per_epoch=train_generator.samples/train_generator.batch_size ,\n",
    "      epochs=20,\n",
    "      validation_data=validation_generator,\n",
    "      validation_steps=validation_generator.samples/validation_generator.batch_size)\n",
    "\n",
    "# Save the Model\n",
    "model.save('all_freezed.h5')\n",
    "\n",
    "# Plot the accuracy and loss curves\n",
    "acc = history.history['acc']\n",
    "val_acc = history.history['val_acc']\n",
    "loss = history.history['loss']\n",
    "val_loss = history.history['val_loss']\n",
    "\n",
    "epochs = range(len(acc))\n",
    "\n",
    "plt.plot(epochs, acc, 'b', label='Training acc')\n",
    "plt.plot(epochs, val_acc, 'r', label='Validation acc')\n",
    "plt.title('Training and validation accuracy')\n",
    "plt.legend()\n",
    "\n",
    "plt.figure()\n",
    "\n",
    "plt.plot(epochs, loss, 'b', label='Training loss')\n",
    "plt.plot(epochs, val_loss, 'r', label='Validation loss')\n",
    "plt.title('Training and validation loss')\n",
    "plt.legend()\n",
    "\n",
    "plt.show()"
   ]
  },
  {
   "cell_type": "code",
   "execution_count": null,
   "metadata": {
    "collapsed": true
   },
   "outputs": [],
   "source": []
  }
 ],
 "metadata": {
  "kernelspec": {
   "display_name": "Python 2",
   "language": "python",
   "name": "python2"
  },
  "language_info": {
   "codemirror_mode": {
    "name": "ipython",
    "version": 2
   },
   "file_extension": ".py",
   "mimetype": "text/x-python",
   "name": "python",
   "nbconvert_exporter": "python",
   "pygments_lexer": "ipython2",
   "version": "2.7.13"
  }
 },
 "nbformat": 4,
 "nbformat_minor": 2
}
