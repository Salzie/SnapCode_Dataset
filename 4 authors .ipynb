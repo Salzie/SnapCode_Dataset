{
 "cells": [
  {
   "cell_type": "code",
   "execution_count": 1,
   "metadata": {},
   "outputs": [
    {
     "name": "stderr",
     "output_type": "stream",
     "text": [
      "Using TensorFlow backend.\n"
     ]
    }
   ],
   "source": [
    "import numpy as np\n",
    "import matplotlib.pyplot as plt\n",
    "%matplotlib inline\n",
    "from __future__ import print_function\n",
    "import keras\n",
    "from keras.preprocessing.image import ImageDataGenerator, load_img"
   ]
  },
  {
   "cell_type": "code",
   "execution_count": 2,
   "metadata": {
    "collapsed": true
   },
   "outputs": [],
   "source": [
    "train_dir = '/home/saloni/our_vgg/clean-dataset/train'\n",
    "validation_dir = '/home/saloni/our_vgg/clean-dataset/test'\n",
    "image_size = 256"
   ]
  },
  {
   "cell_type": "code",
   "execution_count": 3,
   "metadata": {},
   "outputs": [
    {
     "name": "stdout",
     "output_type": "stream",
     "text": [
      "<keras.engine.topology.InputLayer object at 0x7fd97bac42d0> False\n",
      "<keras.layers.convolutional.Conv2D object at 0x7fd97bac4510> False\n",
      "<keras.layers.convolutional.Conv2D object at 0x7fd97ba84a10> False\n",
      "<keras.layers.pooling.MaxPooling2D object at 0x7fd97ba84f10> False\n",
      "<keras.layers.convolutional.Conv2D object at 0x7fd97bac4710> False\n",
      "<keras.layers.convolutional.Conv2D object at 0x7fd97bac4410> False\n",
      "<keras.layers.pooling.MaxPooling2D object at 0x7fd97ba92ed0> False\n",
      "<keras.layers.convolutional.Conv2D object at 0x7fd97ba05c50> False\n",
      "<keras.layers.convolutional.Conv2D object at 0x7fd97b99ebd0> False\n",
      "<keras.layers.convolutional.Conv2D object at 0x7fd97b9c5f90> False\n",
      "<keras.layers.pooling.MaxPooling2D object at 0x7fd97b974750> False\n",
      "<keras.layers.convolutional.Conv2D object at 0x7fd97b937990> False\n",
      "<keras.layers.convolutional.Conv2D object at 0x7fd97b8f7350> False\n",
      "<keras.layers.convolutional.Conv2D object at 0x7fd97b904c90> False\n",
      "<keras.layers.pooling.MaxPooling2D object at 0x7fd97b8b8690> False\n",
      "<keras.layers.convolutional.Conv2D object at 0x7fd97b85dcd0> False\n",
      "<keras.layers.convolutional.Conv2D object at 0x7fd97b8381d0> False\n",
      "<keras.layers.convolutional.Conv2D object at 0x7fd97b8448d0> False\n",
      "<keras.layers.pooling.MaxPooling2D object at 0x7fd97b7f95d0> False\n",
      "_________________________________________________________________\n",
      "Layer (type)                 Output Shape              Param #   \n",
      "=================================================================\n",
      "vgg16 (Model)                (None, 8, 8, 512)         14714688  \n",
      "_________________________________________________________________\n",
      "flatten_1 (Flatten)          (None, 32768)             0         \n",
      "_________________________________________________________________\n",
      "dense_1 (Dense)              (None, 512)               16777728  \n",
      "_________________________________________________________________\n",
      "dropout_1 (Dropout)          (None, 512)               0         \n",
      "_________________________________________________________________\n",
      "dense_2 (Dense)              (None, 4)                 2052      \n",
      "=================================================================\n",
      "Total params: 31,494,468\n",
      "Trainable params: 16,779,780\n",
      "Non-trainable params: 14,714,688\n",
      "_________________________________________________________________\n"
     ]
    }
   ],
   "source": [
    "from keras.applications import VGG16\n",
    "\n",
    "#Load the VGG model\n",
    "vgg_conv = VGG16(weights='imagenet', include_top=False, input_shape=(image_size, image_size, 3))\n",
    "\n",
    "# Freeze all the layers\n",
    "for layer in vgg_conv.layers[:]:\n",
    "    layer.trainable = False\n",
    "\n",
    "# Check the trainable status of the individual layers\n",
    "for layer in vgg_conv.layers:\n",
    "    print(layer, layer.trainable)\n",
    "\n",
    "\n",
    "from keras import models\n",
    "from keras import layers\n",
    "from keras import optimizers\n",
    "\n",
    "# Create the model\n",
    "model = models.Sequential()\n",
    "\n",
    "# Add the vgg convolutional base model\n",
    "model.add(vgg_conv)\n",
    "\n",
    "# Add new layers\n",
    "model.add(layers.Flatten())\n",
    "model.add(layers.Dense(512, activation='relu'))\n",
    "model.add(layers.Dropout(0.5))\n",
    "model.add(layers.Dense(4, activation='softmax'))\n",
    "\n",
    "# Show a summary of the model. Check the number of trainable parameters\n",
    "model.summary()"
   ]
  },
  {
   "cell_type": "code",
   "execution_count": 4,
   "metadata": {},
   "outputs": [
    {
     "name": "stdout",
     "output_type": "stream",
     "text": [
      "Found 1485 images belonging to 4 classes.\n",
      "Found 608 images belonging to 4 classes.\n",
      "Epoch 1/20\n",
      "297/297 [==============================] - 256s - loss: 5.3238 - acc: 0.5380 - val_loss: 1.7351 - val_acc: 0.7752\n",
      "Epoch 2/20\n",
      "297/297 [==============================] - 252s - loss: 2.1202 - acc: 0.7502 - val_loss: 0.8521 - val_acc: 0.8491\n",
      "Epoch 3/20\n",
      "297/297 [==============================] - 250s - loss: 1.2517 - acc: 0.8303 - val_loss: 0.3126 - val_acc: 0.9370\n",
      "Epoch 4/20\n",
      "297/297 [==============================] - 254s - loss: 0.8691 - acc: 0.8653 - val_loss: 0.4068 - val_acc: 0.9154\n",
      "Epoch 5/20\n",
      "297/297 [==============================] - 251s - loss: 0.7015 - acc: 0.8916 - val_loss: 0.5476 - val_acc: 0.9005\n",
      "Epoch 6/20\n",
      "297/297 [==============================] - 251s - loss: 0.5575 - acc: 0.9084 - val_loss: 0.2245 - val_acc: 0.9536\n",
      "Epoch 7/20\n",
      "297/297 [==============================] - 250s - loss: 0.5067 - acc: 0.9199 - val_loss: 0.3888 - val_acc: 0.9287\n",
      "Epoch 8/20\n",
      "297/297 [==============================] - 249s - loss: 0.4211 - acc: 0.9246 - val_loss: 0.3310 - val_acc: 0.9486\n",
      "Epoch 9/20\n",
      "297/297 [==============================] - 251s - loss: 0.3688 - acc: 0.9360 - val_loss: 0.2366 - val_acc: 0.9602\n",
      "Epoch 10/20\n",
      "297/297 [==============================] - 261s - loss: 0.2559 - acc: 0.9562 - val_loss: 0.3426 - val_acc: 0.9519\n",
      "Epoch 11/20\n",
      "297/297 [==============================] - 279s - loss: 0.2993 - acc: 0.9508 - val_loss: 0.2421 - val_acc: 0.9585\n",
      "Epoch 12/20\n",
      "297/297 [==============================] - 260s - loss: 0.2891 - acc: 0.9569 - val_loss: 0.2099 - val_acc: 0.9668\n",
      "Epoch 13/20\n",
      "297/297 [==============================] - 254s - loss: 0.2534 - acc: 0.9596 - val_loss: 0.5450 - val_acc: 0.9303\n",
      "Epoch 14/20\n",
      "297/297 [==============================] - 266s - loss: 0.2576 - acc: 0.9603 - val_loss: 0.2595 - val_acc: 0.9585\n",
      "Epoch 15/20\n",
      "297/297 [==============================] - 254s - loss: 0.2255 - acc: 0.9630 - val_loss: 0.2361 - val_acc: 0.9668\n",
      "Epoch 16/20\n",
      "297/297 [==============================] - 252s - loss: 0.2613 - acc: 0.9616 - val_loss: 0.2444 - val_acc: 0.9635\n",
      "Epoch 17/20\n",
      "297/297 [==============================] - 267s - loss: 0.1924 - acc: 0.9677 - val_loss: 0.2296 - val_acc: 0.9685\n",
      "Epoch 18/20\n",
      "297/297 [==============================] - 251s - loss: 0.1677 - acc: 0.9697 - val_loss: 0.2380 - val_acc: 0.9685\n",
      "Epoch 19/20\n",
      "297/297 [==============================] - 251s - loss: 0.1448 - acc: 0.9717 - val_loss: 0.2351 - val_acc: 0.9718\n",
      "Epoch 20/20\n",
      "297/297 [==============================] - 251s - loss: 0.1208 - acc: 0.9764 - val_loss: 0.2489 - val_acc: 0.9701\n"
     ]
    },
    {
     "data": {
      "image/png": "[encoded data removed]",
      "text/plain": [
       "<matplotlib.figure.Figure at 0x7fd979687d10>"
      ]
     },
     "metadata": {},
     "output_type": "display_data"
    },
    {
     "data": {
      "image/png": "[encoded data removed]",
      "text/plain": [
       "<matplotlib.figure.Figure at 0x7fda0287ab90>"
      ]
     },
     "metadata": {},
     "output_type": "display_data"
    }
   ],
   "source": [
    "# No Data augmentation \n",
    "train_datagen = ImageDataGenerator(rescale=None)\n",
    "validation_datagen = ImageDataGenerator(rescale=None)\n",
    "\n",
    "# Change the batchsize according to your system RAM\n",
    "train_batchsize = 5\n",
    "val_batchsize = 5\n",
    "\n",
    "# Data Generator for Training data\n",
    "train_generator = train_datagen.flow_from_directory(\n",
    "        train_dir,\n",
    "        target_size=(image_size, image_size),\n",
    "        batch_size=train_batchsize,\n",
    "        class_mode='categorical')\n",
    "\n",
    "# Data Generator for Validation data\n",
    "validation_generator = validation_datagen.flow_from_directory(\n",
    "        validation_dir,\n",
    "        target_size=(image_size, image_size),\n",
    "        batch_size=val_batchsize,\n",
    "        class_mode='categorical',\n",
    "        shuffle=False)\n",
    "\n",
    "# Compile the model\n",
    "model.compile(loss='categorical_crossentropy',\n",
    "              optimizer=optimizers.RMSprop(lr=1e-4),\n",
    "              metrics=['acc'])\n",
    "\n",
    "# Train the Model\n",
    "history = model.fit_generator(\n",
    "      train_generator,\n",
    "      steps_per_epoch=train_generator.samples/train_generator.batch_size ,\n",
    "      epochs=20,\n",
    "      validation_data=validation_generator,\n",
    "      validation_steps=validation_generator.samples/validation_generator.batch_size)\n",
    "\n",
    "# Save the Model\n",
    "model.save('all_freezed.h5')\n",
    "\n",
    "# Plot the accuracy and loss curves\n",
    "acc = history.history['acc']\n",
    "val_acc = history.history['val_acc']\n",
    "loss = history.history['loss']\n",
    "val_loss = history.history['val_loss']\n",
    "\n",
    "epochs = range(len(acc))\n",
    "\n",
    "plt.plot(epochs, acc, 'b', label='Training acc')\n",
    "plt.plot(epochs, val_acc, 'r', label='Validation acc')\n",
    "plt.title('Training and validation accuracy')\n",
    "plt.legend()\n",
    "\n",
    "plt.figure()\n",
    "\n",
    "plt.plot(epochs, loss, 'b', label='Training loss')\n",
    "plt.plot(epochs, val_loss, 'r', label='Validation loss')\n",
    "plt.title('Training and validation loss')\n",
    "plt.legend()\n",
    "\n",
    "plt.show()"
   ]
  },
  {
   "cell_type": "code",
   "execution_count": null,
   "metadata": {
    "collapsed": true
   },
   "outputs": [],
   "source": []
  }
 ],
 "metadata": {
  "kernelspec": {
   "display_name": "Python 2",
   "language": "python",
   "name": "python2"
  },
  "language_info": {
   "codemirror_mode": {
    "name": "ipython",
    "version": 2
   },
   "file_extension": ".py",
   "mimetype": "text/x-python",
   "name": "python",
   "nbconvert_exporter": "python",
   "pygments_lexer": "ipython2",
   "version": "2.7.13"
  }
 },
 "nbformat": 4,
 "nbformat_minor": 2
}
