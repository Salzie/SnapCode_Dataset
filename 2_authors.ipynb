{
 "cells": [
  {
   "cell_type": "code",
   "execution_count": 1,
   "metadata": {},
   "outputs": [
    {
     "name": "stderr",
     "output_type": "stream",
     "text": [
      "Using TensorFlow backend.\n"
     ]
    }
   ],
   "source": [
    "import numpy as np\n",
    "import matplotlib.pyplot as plt\n",
    "%matplotlib inline\n",
    "from __future__ import print_function\n",
    "import keras\n",
    "from keras.preprocessing.image import ImageDataGenerator, load_img"
   ]
  },
  {
   "cell_type": "code",
   "execution_count": 2,
   "metadata": {
    "collapsed": true
   },
   "outputs": [],
   "source": [
    "train_dir = '/home/saloni/our_vgg/clean-dataset/train'\n",
    "validation_dir = '/home/saloni/our_vgg/clean-dataset/test'\n",
    "image_size = 256"
   ]
  },
  {
   "cell_type": "code",
   "execution_count": 3,
   "metadata": {},
   "outputs": [
    {
     "name": "stdout",
     "output_type": "stream",
     "text": [
      "<keras.engine.topology.InputLayer object at 0x7f34f09c4190> False\n",
      "<keras.layers.convolutional.Conv2D object at 0x7f34f09c43d0> False\n",
      "<keras.layers.convolutional.Conv2D object at 0x7f34f0984dd0> False\n",
      "<keras.layers.pooling.MaxPooling2D object at 0x7f34f0984b50> False\n",
      "<keras.layers.convolutional.Conv2D object at 0x7f34f09c45d0> False\n",
      "<keras.layers.convolutional.Conv2D object at 0x7f34f0945b50> False\n",
      "<keras.layers.pooling.MaxPooling2D object at 0x7f34f0945b10> False\n",
      "<keras.layers.convolutional.Conv2D object at 0x7f34f08e3b50> False\n",
      "<keras.layers.convolutional.Conv2D object at 0x7f34f08b9b90> False\n",
      "<keras.layers.convolutional.Conv2D object at 0x7f34f08c6910> False\n",
      "<keras.layers.pooling.MaxPooling2D object at 0x7f34f087a610> False\n",
      "<keras.layers.convolutional.Conv2D object at 0x7f34f08557d0> False\n",
      "<keras.layers.convolutional.Conv2D object at 0x7f34f0847d10> False\n",
      "<keras.layers.convolutional.Conv2D object at 0x7f34f07609d0> False\n",
      "<keras.layers.pooling.MaxPooling2D object at 0x7f34f0805cd0> False\n",
      "<keras.layers.convolutional.Conv2D object at 0x7f34f0777050> False\n",
      "<keras.layers.convolutional.Conv2D object at 0x7f34f0795290> False\n",
      "<keras.layers.convolutional.Conv2D object at 0x7f34f0744f90> False\n",
      "<keras.layers.pooling.MaxPooling2D object at 0x7f34f06a19d0> False\n",
      "_________________________________________________________________\n",
      "Layer (type)                 Output Shape              Param #   \n",
      "=================================================================\n",
      "vgg16 (Model)                (None, 8, 8, 512)         14714688  \n",
      "_________________________________________________________________\n",
      "flatten_1 (Flatten)          (None, 32768)             0         \n",
      "_________________________________________________________________\n",
      "dense_1 (Dense)              (None, 512)               16777728  \n",
      "_________________________________________________________________\n",
      "dropout_1 (Dropout)          (None, 512)               0         \n",
      "_________________________________________________________________\n",
      "dense_2 (Dense)              (None, 2)                 1026      \n",
      "=================================================================\n",
      "Total params: 31,493,442\n",
      "Trainable params: 16,778,754\n",
      "Non-trainable params: 14,714,688\n",
      "_________________________________________________________________\n"
     ]
    }
   ],
   "source": [
    "from keras.applications import VGG16\n",
    "\n",
    "#Load the VGG model\n",
    "vgg_conv = VGG16(weights='imagenet', include_top=False, input_shape=(image_size, image_size, 3))\n",
    "\n",
    "# Freeze all the layers\n",
    "for layer in vgg_conv.layers[:]:\n",
    "    layer.trainable = False\n",
    "\n",
    "# Check the trainable status of the individual layers\n",
    "for layer in vgg_conv.layers:\n",
    "    print(layer, layer.trainable)\n",
    "\n",
    "\n",
    "from keras import models\n",
    "from keras import layers\n",
    "from keras import optimizers\n",
    "\n",
    "# Create the model\n",
    "model = models.Sequential()\n",
    "\n",
    "# Add the vgg convolutional base model\n",
    "model.add(vgg_conv)\n",
    "\n",
    "# Add new layers\n",
    "model.add(layers.Flatten())\n",
    "model.add(layers.Dense(512, activation='relu'))\n",
    "model.add(layers.Dropout(0.5))\n",
    "model.add(layers.Dense(2, activation='softmax'))\n",
    "\n",
    "# Show a summary of the model. Check the number of trainable parameters\n",
    "model.summary()"
   ]
  },
  {
   "cell_type": "code",
   "execution_count": 6,
   "metadata": {},
   "outputs": [
    {
     "name": "stdout",
     "output_type": "stream",
     "text": [
      "Found 195 images belonging to 2 classes.\n",
      "Found 94 images belonging to 2 classes.\n",
      "Epoch 1/20\n",
      "39/39 [==============================] - 39s - loss: 1.9387 - acc: 0.7949 - val_loss: 0.0657 - val_acc: 0.9556\n",
      "Epoch 2/20\n",
      "39/39 [==============================] - 36s - loss: 0.7418 - acc: 0.9333 - val_loss: 0.2610 - val_acc: 0.9663\n",
      "Epoch 3/20\n",
      "39/39 [==============================] - 33s - loss: 0.2749 - acc: 0.9744 - val_loss: 0.3203 - val_acc: 0.9326\n",
      "Epoch 4/20\n",
      "39/39 [==============================] - 43s - loss: 0.1607 - acc: 0.9846 - val_loss: 0.3609 - val_acc: 0.9438\n",
      "Epoch 5/20\n",
      "39/39 [==============================] - 52s - loss: 0.0872 - acc: 0.9846 - val_loss: 0.4177 - val_acc: 0.8989\n",
      "Epoch 6/20\n",
      "39/39 [==============================] - 49s - loss: 0.0088 - acc: 0.9949 - val_loss: 1.2769 - val_acc: 0.8764\n",
      "Epoch 7/20\n",
      "39/39 [==============================] - 43s - loss: 7.6027e-04 - acc: 1.0000 - val_loss: 1.5984e-04 - val_acc: 1.0000\n",
      "Epoch 8/20\n",
      "39/39 [==============================] - 55s - loss: 0.0172 - acc: 0.9949 - val_loss: 0.3561 - val_acc: 0.9663\n",
      "Epoch 9/20\n",
      "39/39 [==============================] - 47s - loss: 6.2744e-05 - acc: 1.0000 - val_loss: 0.0038 - val_acc: 1.0000\n",
      "Epoch 10/20\n",
      "39/39 [==============================] - 40s - loss: 0.0013 - acc: 1.0000 - val_loss: 0.0888 - val_acc: 0.9663\n",
      "Epoch 11/20\n",
      "39/39 [==============================] - 33s - loss: 2.5493e-07 - acc: 1.0000 - val_loss: 0.0015 - val_acc: 1.0000\n",
      "Epoch 12/20\n",
      "39/39 [==============================] - 33s - loss: 1.2379e-07 - acc: 1.0000 - val_loss: 0.0138 - val_acc: 0.9888\n",
      "Epoch 13/20\n",
      "39/39 [==============================] - 42s - loss: 1.6017e-07 - acc: 1.0000 - val_loss: 0.3196 - val_acc: 0.9663\n",
      "Epoch 14/20\n",
      "39/39 [==============================] - 55s - loss: 3.1656e-04 - acc: 1.0000 - val_loss: 0.0761 - val_acc: 0.9663\n",
      "Epoch 15/20\n",
      "39/39 [==============================] - 54s - loss: 1.2043e-07 - acc: 1.0000 - val_loss: 0.0348 - val_acc: 0.9663\n",
      "Epoch 16/20\n",
      "39/39 [==============================] - 47s - loss: 1.1921e-07 - acc: 1.0000 - val_loss: 0.0314 - val_acc: 0.9663\n",
      "Epoch 17/20\n",
      "39/39 [==============================] - 51s - loss: 1.1921e-07 - acc: 1.0000 - val_loss: 0.0348 - val_acc: 0.9663\n",
      "Epoch 18/20\n",
      "39/39 [==============================] - 49s - loss: 6.5347e-05 - acc: 1.0000 - val_loss: 0.0039 - val_acc: 1.0000\n",
      "Epoch 19/20\n",
      "39/39 [==============================] - 54s - loss: 1.2716e-07 - acc: 1.0000 - val_loss: 0.1490 - val_acc: 0.9663\n",
      "Epoch 20/20\n",
      "39/39 [==============================] - 46s - loss: 1.1951e-07 - acc: 1.0000 - val_loss: 0.0011 - val_acc: 1.0000\n"
     ]
    },
    {
     "data": {
      "image/png": "[encoded data removed]",
      "text/plain": [
       "<matplotlib.figure.Figure at 0x7f34efdb5dd0>"
      ]
     },
     "metadata": {},
     "output_type": "display_data"
    },
    {
     "data": {
      "image/png": "[encoded data removed]",
      "text/plain": [
       "<matplotlib.figure.Figure at 0x7f3574390c10>"
      ]
     },
     "metadata": {},
     "output_type": "display_data"
    }
   ],
   "source": [
    "# No Data augmentation \n",
    "train_datagen = ImageDataGenerator(rescale=None)\n",
    "validation_datagen = ImageDataGenerator(rescale=None)\n",
    "\n",
    "# Change the batchsize according to your system RAM\n",
    "train_batchsize = 5\n",
    "val_batchsize = 5\n",
    "\n",
    "# Data Generator for Training data\n",
    "train_generator = train_datagen.flow_from_directory(\n",
    "        train_dir,\n",
    "        target_size=(image_size, image_size),\n",
    "        batch_size=train_batchsize,\n",
    "        class_mode='categorical')\n",
    "\n",
    "# Data Generator for Validation data\n",
    "validation_generator = validation_datagen.flow_from_directory(\n",
    "        validation_dir,\n",
    "        target_size=(image_size, image_size),\n",
    "        batch_size=val_batchsize,\n",
    "        class_mode='categorical',\n",
    "        shuffle=False)\n",
    "\n",
    "# Compile the model\n",
    "model.compile(loss='categorical_crossentropy',\n",
    "              optimizer=optimizers.RMSprop(lr=1e-4),\n",
    "              metrics=['acc'])\n",
    "\n",
    "# Train the Model\n",
    "history = model.fit_generator(\n",
    "      train_generator,\n",
    "      steps_per_epoch=train_generator.samples/train_generator.batch_size ,\n",
    "      epochs=20,\n",
    "      validation_data=validation_generator,\n",
    "      validation_steps=validation_generator.samples/validation_generator.batch_size)\n",
    "\n",
    "# Save the Model\n",
    "model.save('all_freezed.h5')\n",
    "\n",
    "# Plot the accuracy and loss curves\n",
    "acc = history.history['acc']\n",
    "val_acc = history.history['val_acc']\n",
    "loss = history.history['loss']\n",
    "val_loss = history.history['val_loss']\n",
    "\n",
    "epochs = range(len(acc))\n",
    "\n",
    "plt.plot(epochs, acc, 'b', label='Training acc')\n",
    "plt.plot(epochs, val_acc, 'r', label='Validation acc')\n",
    "plt.title('Training and validation accuracy')\n",
    "plt.legend()\n",
    "\n",
    "plt.figure()\n",
    "\n",
    "plt.plot(epochs, loss, 'b', label='Training loss')\n",
    "plt.plot(epochs, val_loss, 'r', label='Validation loss')\n",
    "plt.title('Training and validation loss')\n",
    "plt.legend()\n",
    "\n",
    "plt.show()"
   ]
  },
  {
   "cell_type": "code",
   "execution_count": null,
   "metadata": {
    "collapsed": true
   },
   "outputs": [],
   "source": []
  }
 ],
 "metadata": {
  "kernelspec": {
   "display_name": "Python 2",
   "language": "python",
   "name": "python2"
  },
  "language_info": {
   "codemirror_mode": {
    "name": "ipython",
    "version": 2
   },
   "file_extension": ".py",
   "mimetype": "text/x-python",
   "name": "python",
   "nbconvert_exporter": "python",
   "pygments_lexer": "ipython2",
   "version": "2.7.13"
  }
 },
 "nbformat": 4,
 "nbformat_minor": 2
}
